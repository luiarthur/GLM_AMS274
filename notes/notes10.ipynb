{
 "cells": [
  {
   "cell_type": "markdown",
   "metadata": {},
   "source": [
    "Open in [nbviewer](http://nbviewer.jupyter.org/github/luiarthur/GLM_AMS274/blob/master/notes/notes10.ipynb)\n",
    "$\n",
    "% Latex definitions\n",
    "% note: Ctrl-shfit-p for shortcuts menu\n",
    "\\newcommand{\\iid}{\\overset{iid}{\\sim}}\n",
    "\\newcommand{\\ind}{\\overset{ind}{\\sim}}\n",
    "\\newcommand{\\p}[1]{\\left(#1\\right)}\n",
    "\\newcommand{\\bk}[1]{\\left[#1\\right]}\n",
    "\\newcommand{\\bc}[1]{ \\left\\{#1\\right\\} }\n",
    "\\newcommand{\\abs}[1]{ \\left|#1\\right| }\n",
    "\\newcommand{\\norm}[1]{ \\left|\\left|#1\\right|\\right| }\n",
    "\\newcommand{\\E}{ \\text{E} }\n",
    "\\newcommand{\\N}{ \\mathcal N }\n",
    "\\newcommand{\\ds}{ \\displaystyle }\n",
    "\\newcommand{\\R}{ \\mathbb{R} }\n",
    "\\newcommand{\\suml}{ \\sum_{i=1}^n }\n",
    "\\newcommand{\\prodl}{ \\prod_{i=1}^n }\n",
    "\\newcommand{\\overunderset}[3]{\\overset{#1}{\\underset{#2}{#3}}}\n",
    "\\newcommand{\\asym}{\\overset{\\cdot}{\\sim}}\n",
    "\\newcommand{\\given}{\\bigg |}\n",
    "\\newcommand{\\M}{\\mathcal{M}}\n",
    "$"
   ]
  },
  {
   "cell_type": "markdown",
   "metadata": {
    "collapsed": true
   },
   "source": [
    "# Binomial Regression Models (GLM)\n",
    "\n",
    "$$\n",
    "\\begin{split}\n",
    "y_i | \\pi_i &\\ind Bin(m_i,\\pi_i), ~ i=1,...,n \\\\\n",
    "\\pi_i &\\sim g^{-1}(x_i^T\\beta), ~ \\pi_i = \\frac{1}{1+\\exp(-\\theta_i)} \\\\\n",
    "\\end{split}\n",
    "$$\n",
    "\n",
    "## Link Functions\n",
    "\n",
    "- identity (don't do it)\n",
    "- logit \n",
    "    - $logit(\\pi(x)) = \\log\\ds\\frac{\\pi(x)}{1-\\pi(x)} = x'\\beta$ \n",
    "    - in general $\\pi(x)  = F(x'\\beta)$, you can choose $F$ such that$F$ is a cdf on $\\mathbb{R}$ \n",
    "- probit\n",
    "    - $\\pi(x) = \\Phi(x'\\beta)$\n",
    "    - mean = $-\\frac{\\beta_1}{\\beta_2}$ and SD = $\\frac{1}{\\abs{\\beta_2}}$\n",
    "- complimentary-loglog (cloglog)\n",
    "    - $\\pi(x) = 1-\\exp\\bk{-\\exp\\p{x'\\beta}}$\n",
    "    - i.e. $log\\bk{-\\log(1-\\pi(x))} = x'\\beta$, enables skewness\n",
    "\n"
   ]
  },
  {
   "cell_type": "code",
   "execution_count": 1,
   "metadata": {
    "collapsed": false
   },
   "outputs": [
    {
     "data": {
      "text/plain": [
       "inv_logit (generic function with 1 method)"
      ]
     },
     "execution_count": 1,
     "metadata": {},
     "output_type": "execute_result"
    }
   ],
   "source": [
    "using Distributions, RCall\n",
    "logit(p::Float64) = log(p / (1-p))\n",
    "inv_logit(x::Float64) = 1 / (1 + exp(-x))"
   ]
  },
  {
   "cell_type": "code",
   "execution_count": 5,
   "metadata": {
    "collapsed": false
   },
   "outputs": [],
   "source": [
    "b = [2,3]\n",
    "(N,J) = (1000,length(b))\n",
    "X = randn(N,J);\n",
    "y = map(mu -> rand(Bernoulli(inv_logit(mu))), X*b);"
   ]
  },
  {
   "cell_type": "code",
   "execution_count": 6,
   "metadata": {
    "collapsed": false
   },
   "outputs": [
    {
     "data": {
      "text/plain": [
       "RCall.RObject{RCall.VecSxp}\n",
       "\n",
       "Call:  glm(formula = y ~ X - 1)\n",
       "\n",
       "Coefficients:\n",
       "    X1      X2  \n",
       "0.1943  0.2975  \n",
       "\n",
       "Degrees of Freedom: 1000 Total (i.e. Null);  998 Residual\n",
       "Null Deviance:\t    497 \n",
       "Residual Deviance: 366.9 \tAIC: 1841\n"
      ]
     },
     "execution_count": 6,
     "metadata": {},
     "output_type": "execute_result"
    }
   ],
   "source": [
    "@rput X y\n",
    "R\"glm(y~X-1)\""
   ]
  },
  {
   "cell_type": "code",
   "execution_count": null,
   "metadata": {
    "collapsed": true
   },
   "outputs": [],
   "source": []
  }
 ],
 "metadata": {
  "kernelspec": {
   "display_name": "Julia 0.5.0",
   "language": "julia",
   "name": "julia-0.5"
  },
  "language_info": {
   "file_extension": ".jl",
   "mimetype": "application/julia",
   "name": "julia",
   "version": "0.5.0"
  }
 },
 "nbformat": 4,
 "nbformat_minor": 0
}
