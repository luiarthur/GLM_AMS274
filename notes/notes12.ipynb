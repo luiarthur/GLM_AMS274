{
 "cells": [
  {
   "cell_type": "markdown",
   "metadata": {},
   "source": [
    "Open in [nbviewer](http://nbviewer.jupyter.org/github/luiarthur/GLM_AMS274/blob/master/notes/notes12.ipynb)\n",
    "$\n",
    "% Latex definitions\n",
    "% note: Ctrl-shfit-p for shortcuts menu\n",
    "\\newcommand{\\iid}{\\overset{iid}{\\sim}}\n",
    "\\newcommand{\\ind}{\\overset{ind}{\\sim}}\n",
    "\\newcommand{\\p}[1]{\\left(#1\\right)}\n",
    "\\newcommand{\\bk}[1]{\\left[#1\\right]}\n",
    "\\newcommand{\\bc}[1]{ \\left\\{#1\\right\\} }\n",
    "\\newcommand{\\abs}[1]{ \\left|#1\\right| }\n",
    "\\newcommand{\\norm}[1]{ \\left|\\left|#1\\right|\\right| }\n",
    "\\newcommand{\\E}{ \\text{E} }\n",
    "\\newcommand{\\N}{ \\mathcal N }\n",
    "\\newcommand{\\ds}{ \\displaystyle }\n",
    "\\newcommand{\\R}{ \\mathbb{R} }\n",
    "\\newcommand{\\suml}{ \\sum_{i=1}^n }\n",
    "\\newcommand{\\prodl}{ \\prod_{i=1}^n }\n",
    "\\newcommand{\\overunderset}[3]{\\overset{#1}{\\underset{#2}{#3}}}\n",
    "\\newcommand{\\asym}{\\overset{\\cdot}{\\sim}}\n",
    "\\newcommand{\\given}{\\bigg |}\n",
    "\\newcommand{\\M}{\\mathcal{M}}\n",
    "\\newcommand{\\Mult}{\\text{Mult}}\n",
    "$"
   ]
  },
  {
   "cell_type": "markdown",
   "metadata": {},
   "source": [
    "# Nomial Responses (no natrual ordering)\n",
    "\n",
    "1. Baseline-category logits\n",
    "$$\n",
    "\\mathcal{L}_j^{(bc)} = \\log\\p{\\frac{\\pi_j}{\\pi_J}} = \\alpha_j + x'\\beta_j\n",
    "$$\n",
    "where $j=1,...,J-1$\n",
    "2. Discrete-choice models\n",
    "$$\n",
    "\\pi_j(x_{ij}) = \\frac{\\exp(x_{ij}'\\beta)}{\\sum_{h\\in C_i}\\exp(x_{ih}'\\beta)}\n",
    "$$"
   ]
  },
  {
   "cell_type": "markdown",
   "metadata": {
    "collapsed": true
   },
   "source": [
    "# Ordinal Responses\n",
    "\n",
    "## 1. Adjacent-categories logits\n",
    "$$\n",
    "\\mathcal{L}_j^{(ac)} = \\log\\p{\\frac{\\pi_{j+1}}{\\pi_j}}= \\alpha_j + x'\\beta_j\n",
    "$$\n",
    "for $j=1,...,J-1$\n",
    "\n",
    "Note that the adjacent-categories logits and baseline-category logits are equivalent. That is there is a one-to-one correspondence.\n",
    "\n",
    "### Simlification ($\\beta_j = \\beta$)\n",
    "$$\n",
    "\\mathcal{L}_j^{(ac)} = \\alpha_j + x'\\beta\n",
    "$$\n",
    "\n",
    "for $l > k$\n",
    "Then, $\\ds\\log\\p{\\frac{\\pi_l}{\\pi_k}} = \\log\\p{\\frac{\\pi_l}{\\pi_{l-1}}...\\frac{\\pi_{k+1}}{\\pi_{k}}} = \\alpha^*+[(l-k)\\beta]x$, where $\\alpha^* = \\sum_{j=l-1}^k \\alpha_j$.\n",
    "\n",
    "\n",
    "## 2. Continuation-ratio Logits\n",
    "\n",
    "$$ \\mathcal{L}_j^{(cr)} = \\log\\p{\\frac{\\pi_j}{\\pi_{j+1} +...+ \\pi_J }} = \\alpha_j + x'\\beta_j $$\n",
    "or similarly,\n",
    "$$ \\mathcal{L}_j^{*(cr)} = \\log\\p{\\frac{\\pi_{j+1}}{\\pi_{1} +...+ \\pi_j }} $$\n",
    "for $j=1,...,J-1$.\n",
    "\n",
    "Why do this? Well, first let's call $\\rho_j = \\frac{\\pi_j}{\\pi_j +...+\\pi_{J}}$. Then \n",
    "$$\n",
    "\\text{logit}(\\rho_j) = \\log\\p{\\frac{\\rho_j}{1-\\rho_j}} = \\mathcal{L}_j^{(cr)}\n",
    "$$\n",
    "\n",
    "Note that Mult($y_1,...,y_J|m,\\pi_1,...,\\pi_J$) = Bin($y_1|m,\\rho_1$) $\\times...\\times$ Bin($y_{J-1}|m-y_1-...-y_{J-2},\\rho_{J-1}$). You can update each parameter independently seperate fits with binomials. Seperate MCMC's for each $\\beta_j$. Can't do this if $\\beta_j=\\beta$."
   ]
  },
  {
   "cell_type": "markdown",
   "metadata": {},
   "source": [
    "## 3. Cummulative logit models\n",
    "\n",
    "$P(Y\\le j) = \\pi_1+...+\\pi_j = F_j$, for $j=1,...,J-1$.\n",
    "\n",
    "Note $F_1 \\le F_2 \\le ... \\le F_{J-1}$.\n",
    "\n",
    "### Cummulative logits \n",
    "$\\mathcal{L}_j^{(c)} = \\ds\\log\\p{\\frac{\\pi_1+...+\\pi_j}{\\pi_{j+1}+...\\pi_J}} = \\log\\p{\\frac{P(Y\\le j)}{P(Y>j)}} = \\text{logit}(P(Y\\le j))$, for $j=1,...,J-1$.\n",
    "\n",
    "Note that\n",
    "$\\mathcal{L}_j^{(c)} = \\alpha_j$ with the restriction that $\\alpha_i \\le \\alpha_j$ for $i\\le j$. \n",
    "\n",
    "Proportional odds model: $\\mathcal{L}_j^{(c)} = \\alpha_j + x^T\\beta$, different alpha, same beta!\n",
    "\n",
    "The cummulative odds ratio:\n",
    "$$\n",
    "\\mathcal{L}_j^{(c)}(x)-\\mathcal{L}_j^{(c)}(x') = \\log\\bc{\\beta^T(x-x')} \n",
    "$$\n",
    "\n",
    "So $P(Y\\le j)=\\ds\\frac{\\exp(\\alpha_j+x\\beta)}{1+\\exp(\\alpha_j+x\\beta)} $\n",
    "\n",
    "$F_j(x) = F_k(x+\\frac{(\\alpha_j-\\alpha_k)}{\\beta})$"
   ]
  },
  {
   "cell_type": "markdown",
   "metadata": {
    "collapsed": true
   },
   "source": [
    "without regression,\n",
    "$\\mathcal{L}_j^{(c)} = \\alpha_j$ with the restriction that $\\alpha_i \\le \\alpha_j$ for $i\\le j$. \n",
    "\n",
    "### Proportional Odds Model\n",
    "$$\\mathcal{L}_j^{(c)} = \\alpha_j + X^T\\beta$$, for $j=1,...,J-1$\n"
   ]
  },
  {
   "cell_type": "markdown",
   "metadata": {},
   "source": [
    "### Cumulative Link Models\n",
    "\n",
    "- Odrinal response $y$ with $J$ categories\n",
    "- latent continuation response $Z$ on real line with cdf $G(z)$ from a location family of distribution $G(z) = G(z-\\eta)$ (With fixed scale)\n",
    "- model $\\eta = x^T\\beta$ \n",
    "- cutoff points\n",
    "- $-\\infty = \\alpha_0 < \\alpha_1 < ... < \\alpha_{J-1} < \\alpha_J = +\\infty$\n",
    "\n",
    "$y=j \\iff \\alpha_{j-1} < z \\le \\alpha_j$\n",
    "\n",
    "$F_j(x) = P(y \\le j|x) = P(Z \\le \\alpha_j | x) = G(\\alpha_j-x^T\\beta) \\implies G^{-1}(P(y\\le j|x)) = \\alpha_j - x^T\\beta$, for $j=1,...,J-1$"
   ]
  },
  {
   "cell_type": "markdown",
   "metadata": {
    "collapsed": true
   },
   "source": [
    "##  Sepcial Cases\n",
    "1. logit link \n",
    "  - Logistic(0,1). $G^{-1}(u)= \\log\\p{\\frac{u}{1-u}}$ \n",
    "2. probit link\n",
    "  - Normal(0,1) -> Cumulative probit\n",
    "3. $G^{-1}(u) = \\log\\bc{-\\log(1-u)}$ (complementary log log)\n",
    "  - $\\log\\bc{-\\log(1-P(y \\le j | x))}$ (proportional hazards model)"
   ]
  },
  {
   "cell_type": "code",
   "execution_count": null,
   "metadata": {
    "collapsed": true
   },
   "outputs": [],
   "source": []
  }
 ],
 "metadata": {
  "kernelspec": {
   "display_name": "Julia 0.5.0",
   "language": "julia",
   "name": "julia-0.5"
  },
  "language_info": {
   "file_extension": ".jl",
   "mimetype": "application/julia",
   "name": "julia",
   "version": "0.5.0"
  }
 },
 "nbformat": 4,
 "nbformat_minor": 0
}
