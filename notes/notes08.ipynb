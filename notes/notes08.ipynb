{
 "cells": [
  {
   "cell_type": "markdown",
   "metadata": {},
   "source": [
    "Open in [nbviewer](http://nbviewer.jupyter.org/github/luiarthur/GLM_AMS274/blob/master/notes/notes08.ipynb)\n",
    "$\n",
    "% Latex definitions\n",
    "% note: Ctrl-shfit-p for shortcuts menu\n",
    "\\newcommand{\\iid}{\\overset{iid}{\\sim}}\n",
    "\\newcommand{\\ind}{\\overset{ind}{\\sim}}\n",
    "\\newcommand{\\p}[1]{\\left(#1\\right)}\n",
    "\\newcommand{\\bk}[1]{\\left[#1\\right]}\n",
    "\\newcommand{\\bc}[1]{ \\left\\{#1\\right\\} }\n",
    "\\newcommand{\\abs}[1]{ \\left|#1\\right| }\n",
    "\\newcommand{\\norm}[1]{ \\left|\\left|#1\\right|\\right| }\n",
    "\\newcommand{\\E}{ \\text{E} }\n",
    "\\newcommand{\\N}{ \\mathcal N }\n",
    "\\newcommand{\\ds}{ \\displaystyle }\n",
    "\\newcommand{\\R}{ \\mathbb{R} }\n",
    "\\newcommand{\\suml}{ \\sum_{i=1}^n }\n",
    "\\newcommand{\\overunderset}[3]{\\overset{#1}{\\underset{#2}{#3}}}\n",
    "\\newcommand{\\asym}{\\overset{\\cdot}{\\sim}}\n",
    "$"
   ]
  },
  {
   "cell_type": "markdown",
   "metadata": {},
   "source": [
    "# Why be Bayesian in GLM?\n",
    "1. estimation for $\\phi$\n",
    "2. inference for $\\beta$ beyond point estimation (not critical for big data where only point estimates are wanted)\n",
    "3. extension of the standard GLM settings"
   ]
  },
  {
   "cell_type": "markdown",
   "metadata": {},
   "source": [
    "data = $\\bc{(y_i,x_i), i=1,...,n}$\n",
    "$$\n",
    "p(\\beta,\\phi | data) \\propto p(\\beta,\\phi) \\exp\\bc{\\suml c(y_i,\\phi) \\frac{y_i h(x_i^T\\beta)-b(h(x_i^T\\beta))}{a_i(\\phi)}}\n",
    "$$\n",
    "- $\\theta_i = h(x_i^T\\beta)$\n",
    "- $h(\\cdot) = b'^{-1}(g^{-1}(\\cdot)) $\n",
    "- $\\mu_i = b'(\\theta_i) = g^{-1}(x_i^T\\beta)$\n",
    "\n",
    "### Problematic cases for improper priors on $\\beta$\n",
    "- $n = 1$, gamma glm => improper posterior\n",
    "- binomial and poisson glms (any $n$) if all $y_i=0$ => improper posterior\n",
    "\n"
   ]
  },
  {
   "cell_type": "markdown",
   "metadata": {},
   "source": [
    "# Jeffrey's prior\n",
    "$$J(\\beta) = \\frac{1}{\\phi} X^TW^*(\\beta)X$$\n",
    "where $W^*$ is a diagonal matrix, with $w_i^*(\\beta) = \\frac{1}{\\beta''(\\theta_i)}\\p{\\frac{d\\mu_i}{d\\eta_i}}^2$\n",
    "\n",
    "$$\\pi_J(\\beta) \\propto \\abs{X^TW^*(\\beta)X}^{1/2}$$\n"
   ]
  },
  {
   "cell_type": "markdown",
   "metadata": {},
   "source": [
    "# Bayesian Inference for GLMs\n",
    "\n",
    "- asymptotic normal distribution approx for posterior of $\\beta$\n",
    "- numerical integration (1980s)\n",
    "- MCMC\n",
    "    - adaptive rejection sampling -> dellapartas and Smith (1993), Gibbs sampling with full conditionals that are log-concave\n",
    "    - log-concave: $~~~f: \\mathbb{R}^n \\rightarrow \\mathbb{R}^+$\n",
    "    - slice gibbs  sampling (Damien, Walker, and Wakefield (1999))"
   ]
  },
  {
   "cell_type": "code",
   "execution_count": null,
   "metadata": {
    "collapsed": true
   },
   "outputs": [],
   "source": []
  }
 ],
 "metadata": {
  "kernelspec": {
   "display_name": "Julia 0.4.5",
   "language": "julia",
   "name": "julia-0.4"
  },
  "language_info": {
   "file_extension": ".jl",
   "mimetype": "application/julia",
   "name": "julia",
   "version": "0.4.5"
  }
 },
 "nbformat": 4,
 "nbformat_minor": 0
}
