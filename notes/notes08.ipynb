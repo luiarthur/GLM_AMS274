{
 "cells": [
  {
   "cell_type": "markdown",
   "metadata": {},
   "source": [
    "Open in [nbviewer](http://nbviewer.jupyter.org/github/luiarthur/GLM_AMS274/blob/master/notes/notes08.ipynb)\n",
    "$\n",
    "% Latex definitions\n",
    "% note: Ctrl-shfit-p for shortcuts menu\n",
    "\\newcommand{\\iid}{\\overset{iid}{\\sim}}\n",
    "\\newcommand{\\ind}{\\overset{ind}{\\sim}}\n",
    "\\newcommand{\\p}[1]{\\left(#1\\right)}\n",
    "\\newcommand{\\bk}[1]{\\left[#1\\right]}\n",
    "\\newcommand{\\bc}[1]{ \\left\\{#1\\right\\} }\n",
    "\\newcommand{\\abs}[1]{ \\left|#1\\right| }\n",
    "\\newcommand{\\norm}[1]{ \\left|\\left|#1\\right|\\right| }\n",
    "\\newcommand{\\E}{ \\text{E} }\n",
    "\\newcommand{\\N}{ \\mathcal N }\n",
    "\\newcommand{\\ds}{ \\displaystyle }\n",
    "\\newcommand{\\R}{ \\mathbb{R} }\n",
    "\\newcommand{\\suml}{ \\sum_{i=1}^n }\n",
    "\\newcommand{\\prodl}{ \\prod_{i=1}^n }\n",
    "\\newcommand{\\overunderset}[3]{\\overset{#1}{\\underset{#2}{#3}}}\n",
    "\\newcommand{\\asym}{\\overset{\\cdot}{\\sim}}\n",
    "\\newcommand{\\given}{\\bigg |}\n",
    "$"
   ]
  },
  {
   "cell_type": "markdown",
   "metadata": {},
   "source": [
    "# Why be Bayesian in GLM?\n",
    "1. estimation for $\\phi$\n",
    "2. inference for $\\beta$ beyond point estimation (not critical for big data where only point estimates are wanted)\n",
    "3. extension of the standard GLM settings"
   ]
  },
  {
   "cell_type": "markdown",
   "metadata": {},
   "source": [
    "data = $\\bc{(y_i,x_i), i=1,...,n}$\n",
    "$$\n",
    "p(\\beta,\\phi | data) \\propto p(\\beta,\\phi) \\exp\\bc{\\suml c(y_i,\\phi) \\frac{y_i h(x_i^T\\beta)-b(h(x_i^T\\beta))}{a_i(\\phi)}}\n",
    "$$\n",
    "- $\\theta_i = h(x_i^T\\beta)$\n",
    "- $h(\\cdot) = b'^{-1}(g^{-1}(\\cdot)) $\n",
    "- $\\mu_i = b'(\\theta_i) = g^{-1}(x_i^T\\beta)$\n",
    "\n",
    "### Problematic cases for improper priors on $\\beta$\n",
    "- $n = 1$, gamma glm => improper posterior\n",
    "- binomial and poisson glms (any $n$) if all $y_i=0$ => improper posterior\n",
    "\n"
   ]
  },
  {
   "cell_type": "markdown",
   "metadata": {},
   "source": [
    "# Jeffrey's prior\n",
    "$$J(\\beta) = \\frac{1}{\\phi} X^TW^*(\\beta)X$$\n",
    "where $W^*$ is a diagonal matrix, with $w_i^*(\\beta) = \\frac{1}{\\beta''(\\theta_i)}\\p{\\frac{d\\mu_i}{d\\eta_i}}^2$\n",
    "\n",
    "$$\\pi_J(\\beta) \\propto \\abs{X^TW^*(\\beta)X}^{1/2}$$\n"
   ]
  },
  {
   "cell_type": "markdown",
   "metadata": {},
   "source": [
    "# Bayesian Inference for GLMs\n",
    "\n",
    "- asymptotic normal distribution approx for posterior of $\\beta$\n",
    "- numerical integration (1980s)\n",
    "- MCMC\n",
    "    - adaptive rejection sampling -> dellapartas and Smith (1993), Gibbs sampling with full conditionals that are log-concave\n",
    "    - log-concave: $~~~f: \\mathbb{R}^n \\rightarrow \\mathbb{R}^+$\n",
    "    - slice gibbs  sampling (Damien, Walker, and Wakefield (1999))"
   ]
  },
  {
   "cell_type": "markdown",
   "metadata": {
    "collapsed": true
   },
   "source": [
    "# Data Augmentation (Bernoulli)\n",
    "- Probit => $\\Phi$ (Albert Chib) \n",
    "- Logit => $L(0,1)$, logistic distribution CDF, where pdf = $f(z) = \\ds\\frac{\\exp(-z)}{\\bc{1+\\exp(-z)}^2}$\n",
    "\n",
    "## Hierarchical Expansion (latent continuous response $z_i$)\n",
    "$$\n",
    "\\begin{split}\n",
    "y_i | z_i &\\ind \\mathbb{1}\\p{y_i=1 \\iff z_i >0} \\\\\n",
    "z_i | \\beta &\\ind N(x_i^T\\beta,1) \\\\\n",
    "\\beta &\\sim p(\\beta)\n",
    "\\end{split}\n",
    "$$\n",
    "\n",
    "### Gibbs\n",
    "if $p(\\beta) \\propto 1$, \n",
    "$$\n",
    "\\begin{split}\n",
    "\\beta|z,data &\\sim N\\p{\\p{X^TX}^{-1}X^TZ,\\p{X^TX}^{-1}} \\\\\n",
    "z_i|\\beta,data &\\sim TN\\p{x_i^T\\beta,1} s.t. z_i > 0, if y_i = 1\n",
    "\\end{split}\n",
    "$$\n"
   ]
  },
  {
   "cell_type": "markdown",
   "metadata": {},
   "source": [
    "# Holmes & Held (2006)\n",
    "\n",
    "$ f(\\epsilon) = \\ds\\int_0^\\infty \\frac{1}{2u} \\phi\\p{\\frac{\\epsilon}{2u}} dG(u) $\n",
    "\n",
    "The kernel is N(e|0,sd=2u)\n",
    "\n",
    "$G$ cdf of KS distribution on R+\n",
    "\n",
    "$G(u) = 1-2\\sum_{n=1}^\\infty (-1)^{n+1} \\exp\\p{-2n^2u^2}$\n",
    "$$\n",
    "\\begin{split}\n",
    "y_i | z_i &\\ind \\mathbb{1}\\p{y_i=1 \\iff z_i >0} \\\\\n",
    "z_i | \\beta, u_i &\\ind N(x_i^T\\beta,(2u_i)^2) \\\\\n",
    "u_i &\\ind KS \\\\\n",
    "\\beta &\\sim p(\\beta) \\\\\n",
    "\\end{split}\n",
    "$$\n"
   ]
  },
  {
   "cell_type": "markdown",
   "metadata": {},
   "source": [
    "# Palson, Scott and ... (2013)\n",
    "\n",
    "$$\n",
    "\\ds\\frac{\\p{e^\\eta}^a}{\\p{1+e^\\eta}^b} = 2^{-b} \\exp\\bc{\\p{a-b/2}\\eta} \\times \\int_0^\\infty \\exp\\p{-u\\eta^2/2} g(u)du\n",
    "$$\n",
    "\n",
    "PG = Polya Gamma dist.\n",
    "\n",
    "g  is the density of a PG(b,0) distribution.\n",
    "\n",
    "$$\n",
    "Z \\sim PG(b,c), b>0, c\\in\\mathbb{R} \\\\\n",
    "Z = \\frac{1}{2\\pi} \\sum_{k=1}^\\infty \\frac{V_k}{(k-1/2)^2 + \\frac{c^2}{4\\pi^2}} \\\\\n",
    "V_k \\ind gamma(b,1) \\\\\n",
    "$$"
   ]
  },
  {
   "cell_type": "markdown",
   "metadata": {},
   "source": [
    "# Posterior Predictive\n",
    "\n",
    "$$\n",
    "\\begin{split}\n",
    "p(y_0 , \\beta, \\phi) &\\propto EDF(y_0|\\beta,\\phi,x_0) \\prodl EDF(y_i|\\beta,\\phi,x_i) \\times p(\\beta,\\phi) \\\\\n",
    "p(y_0 , \\beta, \\phi) &= EDF(y_0|\\beta\\phi,x_0) p(\\beta,\\phi | data) \\\\\n",
    "\\end{split}\n",
    "$$\n",
    "\n",
    "So, integrating out $\\beta,\\phi$ (using the posterior samples), we get $p(y_0 | x_0, data)$.\n",
    "\n",
    "$$\n",
    "\\begin{split}\n",
    "p(y_0 | x_0, data) &= \\int EDF(y_0 | \\beta,\\phi,x_0) p(\\beta,\\phi,data) d\\beta d\\phi \\\\\n",
    "\\E(y_0 | x_0, data) &= \\int y_0 p(y_0 | x_0, data) dy_0 \\\\\n",
    "\\end{split}\n",
    "$$"
   ]
  },
  {
   "cell_type": "markdown",
   "metadata": {},
   "source": [
    "# Model checking / comparison\n",
    "## Bayesian Residuals (checking)\n",
    "$r_{i,b} = y_i - \\mu_i = y_i-g^{-1}(x_i^T\\beta)$\n",
    "\n",
    "### Example\n",
    "- Binomial logit GLM:  $r_{i,b} = \\ds\\frac{y_i}{m_i} - \\ds\\frac{1}{1+\\exp(-x_i^T\\beta)}$\n",
    "\n",
    "## Posterior Predictive Residuals\n",
    "$r_{i,pp} = y_i - z_i$, y is observed, z is predicted\n",
    "\n",
    "## Cross Validation\n",
    "- leave-one-out\n",
    "\n"
   ]
  },
  {
   "cell_type": "markdown",
   "metadata": {},
   "source": [
    "## CPO \n",
    "- $CPO_i = \\ds\\int EDF(y_i|\\beta,\\phi,x_i) p(\\beta,\\phi | data_{-i}) d\\beta d\\phi$\n",
    "- Let $A$ = normalizing constant for $p(\\beta,\\phi | data)$\n",
    "- Let $B$ = normalizing constant for $p(\\beta,\\phi | data_{-i})$\n",
    "\n",
    "$$\n",
    "\\begin{split}\n",
    "CPO_i &= \\ds\\int EDF(y_i|\\beta,\\phi,x_i) p(\\beta,\\phi | data_{-i}) d\\beta d\\phi \\\\\n",
    "      &= \\ds\\int EDF(y_i|\\beta,\\phi,x_i) \\frac{1}{B} p(\\beta,\\phi)\\prod_{j\\ne i} EDF(y_j|\\beta,\\phi,x_j) d\\beta d\\phi \\\\\n",
    "      &= \\ds\\int EDF(y_i|\\beta,\\phi,x_i) \\frac{1}{B~EDF(y_i|\\beta,\\phi,x_i) } p(\\beta,\\phi)\\prodl EDF(y_i|\\beta,\\phi,x_i) d\\beta d\\phi \\\\\n",
    "      &= \\frac{A}{B} \\\\\n",
    "\\\\\n",
    "\\frac{B}{A} &= \\ds\\frac{1}{A} \\int \\prod_{j\\ne i} EDF(y_j|\\beta,\\phi,x_j)p(\\beta,\\phi) d\\beta d\\phi \\\\\n",
    "            &= \\ds\\frac{1}{A} \\int \\frac{1}{EDF(y_i|\\beta,\\phi,x_i)} \\prodl EDF(y_i|\\beta,\\phi,x_i)p(\\beta,\\phi) d\\beta d\\phi \\\\\n",
    "            &= \\ds\\int \\frac{1}{EDF(y_i|\\beta,\\phi,x_i)} p(\\beta,\\phi|data) d\\beta d\\phi \\\\\n",
    "            \\\\\n",
    "\\therefore CPO_i &= \\bc{\\ds\\int \\frac{1}{EDF(y_i|\\beta,\\phi,x_i)} p(\\beta,\\phi|data) d\\beta d\\phi}^{-1} \\\\\n",
    "\\end{split}\n",
    "$$\n",
    "\n",
    "Note: if it takes $B$ MCMC samples for the parameters to converge, you'll need abbout $10B$ MCMC samples for \n",
    "the $CPO_i$ to be stable.\n",
    "\n",
    "Gelfand(1996) p 145-161, \"MCMC in Practice\""
   ]
  },
  {
   "cell_type": "markdown",
   "metadata": {},
   "source": [
    "## Bayesian Latent Residuals (Albert & Chib 1995)\n",
    "For the bayesian probit latent model, $r_{i,L} = z_i - x_i^T\\beta$\n"
   ]
  },
  {
   "cell_type": "code",
   "execution_count": null,
   "metadata": {
    "collapsed": true
   },
   "outputs": [],
   "source": []
  }
 ],
 "metadata": {
  "kernelspec": {
   "display_name": "Julia 0.4.5",
   "language": "julia",
   "name": "julia-0.4"
  },
  "language_info": {
   "file_extension": ".jl",
   "mimetype": "application/julia",
   "name": "julia",
   "version": "0.4.5"
  }
 },
 "nbformat": 4,
 "nbformat_minor": 0
}
