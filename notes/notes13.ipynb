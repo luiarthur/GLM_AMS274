{
 "cells": [
  {
   "cell_type": "markdown",
   "metadata": {},
   "source": [
    "Open in [nbviewer](http://nbviewer.jupyter.org/github/luiarthur/GLM_AMS274/blob/master/notes/notes13.ipynb)\n",
    "$\n",
    "% Latex definitions\n",
    "% note: Ctrl-shfit-p for shortcuts menu\n",
    "\\newcommand{\\iid}{\\overset{iid}{\\sim}}\n",
    "\\newcommand{\\ind}{\\overset{ind}{\\sim}}\n",
    "\\newcommand{\\p}[1]{\\left(#1\\right)}\n",
    "\\newcommand{\\bk}[1]{\\left[#1\\right]}\n",
    "\\newcommand{\\bc}[1]{ \\left\\{#1\\right\\} }\n",
    "\\newcommand{\\abs}[1]{ \\left|#1\\right| }\n",
    "\\newcommand{\\norm}[1]{ \\left|\\left|#1\\right|\\right| }\n",
    "\\newcommand{\\E}{ \\text{E} }\n",
    "\\newcommand{\\N}{ \\mathcal N }\n",
    "\\newcommand{\\ds}{ \\displaystyle }\n",
    "\\newcommand{\\R}{ \\mathbb{R} }\n",
    "\\newcommand{\\suml}{ \\sum_{i=1}^n }\n",
    "\\newcommand{\\prodl}{ \\prod_{i=1}^n }\n",
    "\\newcommand{\\overunderset}[3]{\\overset{#1}{\\underset{#2}{#3}}}\n",
    "\\newcommand{\\asym}{\\overset{\\cdot}{\\sim}}\n",
    "\\newcommand{\\given}{\\bigg |}\n",
    "\\newcommand{\\M}{\\mathcal{M}}\n",
    "\\newcommand{\\Mult}{\\text{Mult}}\n",
    "$"
   ]
  },
  {
   "cell_type": "markdown",
   "metadata": {},
   "source": [
    "### Cumulative Link Models\n",
    "\n",
    "- Odrinal response $y$ with $J$ categories\n",
    "- latent continuation response $Z$ on real line with cdf $G(z)$ from a location family of distribution $G(z) = G(z-\\eta)$ (With fixed scale)\n",
    "- model $\\eta = x^T\\beta$ \n",
    "- cutoff points\n",
    "- $-\\infty = \\alpha_0 < \\alpha_1 < ... < \\alpha_{J-1} < \\alpha_J = +\\infty$\n",
    "\n",
    "$y=j \\iff \\alpha_{j-1} < z \\le \\alpha_j$\n",
    "\n",
    "$F_j(x) = P(y \\le j|x) = P(Z \\le \\alpha_j | x) = G(\\alpha_j-x^T\\beta) \\implies G^{-1}(P(y\\le j|x)) = \\alpha_j - x^T\\beta$, for $j=1,...,J-1$"
   ]
  },
  {
   "cell_type": "markdown",
   "metadata": {
    "collapsed": true
   },
   "source": [
    "##  Sepcial Cases\n",
    "1. logit link \n",
    "  - Logistic(0,1). $G^{-1}(u)= \\log\\p{\\frac{u}{1-u}}$  -> cumulative logit (proportional odds)\n",
    "2. probit link\n",
    "  - $G(u) = \\Phi(u)$ -> Cumulative probit\n",
    "3. $G^{-1}(u) = \\log\\bc{-\\log(1-u)}$ (complementary log log)\n",
    "  - $\\log\\bc{-\\log(1-P(y \\le j | x))}$ (proportional hazards model)\n",
    "  \n",
    "### identifiability restrictions\n",
    "- scale of G fixed\n",
    "- fix $\\beta_0$ or one of the $\\alpha_j$'s\n",
    "\n",
    "### Bayesian Model Fitting\n",
    "- estimate both the $\\alpha_j$ and $\\beta$"
   ]
  },
  {
   "cell_type": "markdown",
   "metadata": {
    "collapsed": true
   },
   "source": [
    "### Other Topics\n",
    "- Mutlivariate Ordinal Regression (Maria De Yoreo)\n",
    "- Hierarchical GLMs (Albert (1988) JASA)"
   ]
  },
  {
   "cell_type": "markdown",
   "metadata": {},
   "source": [
    "### Hierarchical GLMs\n",
    "\n",
    "#### First stage\n",
    "$$\n",
    "\\begin{split}\n",
    "y_i \\theta_i, \\phi &\\ind EDF(\\theta_i,\\phi) \\\\\n",
    "\\E(y_i | \\theta_i) = \\mu_i &= b'(\\theta_i) \\\\\n",
    "g(\\mu_i) &= x_i^T\\beta \\\\\n",
    "&\\implies \\theta_i = h(x_i^T\\beta) \\\\\n",
    "\\end{split}\n",
    "$$\n",
    "\n",
    "#### Second stage\n",
    "$$\n",
    "\\begin{split}\n",
    "\\theta_i | \\gamma_i, \\lambda &\\ind p(\\theta_i|\\gamma_i,\\lambda) = \\exp\\bc{\\lambda\\bk{\\theta_i\\gamma_i-b(\\theta_i)} + k(\\gamma_i,\\lambda)}\n",
    "\\end{split}\n",
    "$$\n",
    "\n",
    "#### Third Stage\n",
    "$$\n",
    "\\begin{split}\n",
    "g(\\gamma_i) = x_i^T\\beta \\\\\n",
    "\\text{priors for } \\phi,\\lambda,\\beta \\\\\n",
    "\\end{split}\n",
    "$$\n",
    "\n",
    "So, $\\E\\bk{\\mu_i|\\theta_i} = \\E\\bk{b'(\\theta_i)} = \\gamma_i$, and $g(\\E\\bk{\\mu_i|\\gamma_i}) = x_i^T\\beta$\n",
    "\n",
    "As $\\lambda \\rightarrow \\infty$ distribution for $\\mu_i$ that becomes a point mass at $\\gamma_i$.\n",
    "\n",
    "- $p(\\lambda) = \\frac{1}{(1+\\lambda)^2}$\n",
    "- $u\\sim\\text{Pareto(range=1,shape=1)}$\n",
    "    - $f(u) = 1/u^2, u\\ge 1 \\Rightarrow \\lambda = \\frac{1}{u}$"
   ]
  },
  {
   "cell_type": "markdown",
   "metadata": {},
   "source": [
    "### Other approaches \n",
    "- integrating out $\\theta_i$"
   ]
  },
  {
   "cell_type": "code",
   "execution_count": null,
   "metadata": {
    "collapsed": true
   },
   "outputs": [],
   "source": []
  }
 ],
 "metadata": {
  "kernelspec": {
   "display_name": "Julia 0.5.0",
   "language": "julia",
   "name": "julia-0.5"
  },
  "language_info": {
   "file_extension": ".jl",
   "mimetype": "application/julia",
   "name": "julia",
   "version": "0.5.0"
  }
 },
 "nbformat": 4,
 "nbformat_minor": 0
}
