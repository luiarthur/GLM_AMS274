{
 "cells": [
  {
   "cell_type": "markdown",
   "metadata": {},
   "source": [
    "Open in [nbviewer](http://nbviewer.jupyter.org/github/luiarthur/GLM_AMS274/blob/master/notes/notes11.ipynb)\n",
    "$\n",
    "% Latex definitions\n",
    "% note: Ctrl-shfit-p for shortcuts menu\n",
    "\\newcommand{\\iid}{\\overset{iid}{\\sim}}\n",
    "\\newcommand{\\ind}{\\overset{ind}{\\sim}}\n",
    "\\newcommand{\\p}[1]{\\left(#1\\right)}\n",
    "\\newcommand{\\bk}[1]{\\left[#1\\right]}\n",
    "\\newcommand{\\bc}[1]{ \\left\\{#1\\right\\} }\n",
    "\\newcommand{\\abs}[1]{ \\left|#1\\right| }\n",
    "\\newcommand{\\norm}[1]{ \\left|\\left|#1\\right|\\right| }\n",
    "\\newcommand{\\E}{ \\text{E} }\n",
    "\\newcommand{\\N}{ \\mathcal N }\n",
    "\\newcommand{\\ds}{ \\displaystyle }\n",
    "\\newcommand{\\R}{ \\mathbb{R} }\n",
    "\\newcommand{\\suml}{ \\sum_{i=1}^n }\n",
    "\\newcommand{\\prodl}{ \\prod_{i=1}^n }\n",
    "\\newcommand{\\overunderset}[3]{\\overset{#1}{\\underset{#2}{#3}}}\n",
    "\\newcommand{\\asym}{\\overset{\\cdot}{\\sim}}\n",
    "\\newcommand{\\given}{\\bigg |}\n",
    "\\newcommand{\\M}{\\mathcal{M}}\n",
    "\\newcommand{\\Mult}{\\text{Mult}}\n",
    "$"
   ]
  },
  {
   "cell_type": "markdown",
   "metadata": {
    "collapsed": true
   },
   "source": [
    "# Multinomial Distribution\n",
    "\n",
    "- $m$ independent trials, $J \\ge 2$\n",
    "- $J$ possible outcomes with constant probability for each outcome across trials\n",
    "- happens to be a member of the **multivariate** EDF, so it is a multivariate GLM\n",
    "\n",
    "--- \n",
    "\n",
    "- $Y = (Y_1,...,Y_J)$, with $\\sum_{j=1}^J Y_j= m$\n",
    "- probabilites $\\pi=(\\pi_1,...,\\pi_J)$, where each $\\pi_j \\ge 0$ and sum to 1\n",
    "- $f(y|\\pi) = \\ds\\frac{m!}{\\prod_{j=1}^J y_j!} \\prod_{j=1}^J {\\pi_j}^{y_j}$"
   ]
  },
  {
   "cell_type": "markdown",
   "metadata": {},
   "source": [
    "## Properties\n",
    "- if $Y_1,...,Y_J \\sim \\Mult(m; \\pi_1,...,\\pi_J)$ then\n",
    "  1. collapsing: e.g. $(Y_1+Y_2, Y_3,...,Y_J)\\sim \\Mult(m; \\pi_1+\\pi_2,\\pi_3,...,\\pi_J)$\n",
    "  2. conditioning: e.e. $(Y_1,Y_2,Y_3) | (Y_4,...,Y_J)\\sim \\Mult\\p{m-\\sum_{l=4}^JY_l; ,\\frac{\\pi_1}{\\pi_1+\\pi_2+\\pi_3},\\frac{\\pi_2}{\\pi_1+\\pi_2+\\pi_3},\\frac{\\pi_3}{\\pi_1+\\pi_2+\\pi_3}}$\n",
    "  3. Marginalizing: e.g. $(Y_1,Y_2) \\sim \\Mult\\p{m; \\pi_1,\\pi_2,1-\\pi_1-\\pi_2}$\n",
    "  4. $Y_j\\sim Binom\\p{m; \\pi_j,1-\\pi_j}$\n",
    "\n",
    "## Connection to Poisson\n",
    "- if $Y_j \\ind Poisson(\\lambda_j)$\n",
    "  1. $(Y_1,...,y_J) \\given \\sum_{j=1}^J \\sim \\Mult\\p{\\sum_{j=1}^J Y_j; \\frac{\\lambda_1}{\\lambda}, ..., \\frac{\\lambda_J}{\\lambda}}$, where $\\lambda = \\sum_{j=1}^J y_j$\n",
    "\n"
   ]
  },
  {
   "cell_type": "markdown",
   "metadata": {},
   "source": [
    "## Contingency Tables\n",
    "Categorical Variables (represents the frequencies of all possible combos of discrete variables)\n",
    "\n",
    "| | X_1 | ... | X_J | \n",
    "|:---:|:---:|:---:|:---:|\n",
    "|Y_1 |-| |-| \n",
    "||-| $n_{ij}$ |-| \n",
    "\n",
    "|Y_I |-| - |-| \n",
    "\n",
    "$n_{ij}$ is the freq. for cell (i,j)\n",
    "\n",
    "- If there is a notion of response / covariate, then the log-linear models can be expressed as logistic GLMS"
   ]
  },
  {
   "cell_type": "markdown",
   "metadata": {},
   "source": [
    "Consider a 2x2 table. \n",
    "\n",
    "\n",
    "| n_11 | n_12|\n",
    "|:---:|:---:|\n",
    "| n_21 | n_22|\n",
    "\n",
    "total = $n$\n",
    "\n",
    "### 1. Poisson sampling (no restrictions on the $n_{ij})$\n",
    "- $n_{ij} \\ind Poisson(\\lambda_{ij})$, note that $n$ is also poisson\n",
    "\n",
    "### 2. Total $n$ is fixed\n",
    "- direct multinomial sampling \n",
    "- $(n_{11},n_{12},n_{21},n_{22}) \\given n \\sim \\Mult\\p{n; \\frac{\\lambda_{11}}{\\lambda},...,\\frac{\\lambda_{22}}{\\lambda}}$\n",
    "\n",
    "### 3. Row Totals are Fixed (implies the table total is fixed)\n",
    "| | Present | Absent|\n",
    "|:---:|:---:|:---:|\n",
    "|Present | n_11 | n_12|\n",
    "|Absent | n_21 | n_22|\n",
    "\n",
    "There is only one R.V. in each row, because the row total is fixed.\n",
    "So, \n",
    "- $n_{11}|n_{1\\bullet} \\sim Binorm\\p{n_{1\\bullet}, \\frac{\\pi_{11}}{\\pi_{11}+\\pi_{12}}}$\n",
    "- $n_{21}|n_{2\\bullet} \\sim Binorm\\p{n_{2\\bullet}, \\frac{\\pi_{21}}{\\pi_{21}+\\pi_{22}}}$\n",
    "\n",
    "### 4. Both column and row totals are fixed\n",
    "- not too common. Fisher's exact test (lady who can determine what was in her tea...)"
   ]
  },
  {
   "cell_type": "markdown",
   "metadata": {},
   "source": [
    "## Multinomial Response (Regression) models\n",
    "\n",
    "- $Y_i = (Y_{j1},...Y_{iJ}) \\given \\pi \\ind \\Mult(m_i; \\pi_{i1},...,\\pi_{iJ})$, where $m_i$ is fixed\n",
    "\n",
    "### Multivariate EDF\n",
    "- $f(y|\\theta,\\phi) = \\exp\\bc{\\frac{y'\\theta - b(\\theta)}{a(\\phi)} + c(y,\\phi)}$, where $y$ and $\\theta$ are $k$-vectors.\n",
    "- $\\E(y) = \\mu$\n",
    "- $\\phi >0 $\n",
    "- $g(\\mu) = X\\beta$, a vector of (possibly) link functions"
   ]
  },
  {
   "cell_type": "code",
   "execution_count": null,
   "metadata": {
    "collapsed": true
   },
   "outputs": [],
   "source": []
  }
 ],
 "metadata": {
  "kernelspec": {
   "display_name": "Julia 0.5.0",
   "language": "julia",
   "name": "julia-0.5"
  },
  "language_info": {
   "file_extension": ".jl",
   "mimetype": "application/julia",
   "name": "julia",
   "version": "0.5.0"
  }
 },
 "nbformat": 4,
 "nbformat_minor": 0
}
