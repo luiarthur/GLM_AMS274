{
 "cells": [
  {
   "cell_type": "markdown",
   "metadata": {},
   "source": [
    "Open in [nbviewer](http://nbviewer.jupyter.org/github/luiarthur/GLM_AMS274/blob/master/notes/notes11.ipynb)\n",
    "$\n",
    "% Latex definitions\n",
    "% note: Ctrl-shfit-p for shortcuts menu\n",
    "\\newcommand{\\iid}{\\overset{iid}{\\sim}}\n",
    "\\newcommand{\\ind}{\\overset{ind}{\\sim}}\n",
    "\\newcommand{\\p}[1]{\\left(#1\\right)}\n",
    "\\newcommand{\\bk}[1]{\\left[#1\\right]}\n",
    "\\newcommand{\\bc}[1]{ \\left\\{#1\\right\\} }\n",
    "\\newcommand{\\abs}[1]{ \\left|#1\\right| }\n",
    "\\newcommand{\\norm}[1]{ \\left|\\left|#1\\right|\\right| }\n",
    "\\newcommand{\\E}{ \\text{E} }\n",
    "\\newcommand{\\N}{ \\mathcal N }\n",
    "\\newcommand{\\ds}{ \\displaystyle }\n",
    "\\newcommand{\\R}{ \\mathbb{R} }\n",
    "\\newcommand{\\suml}{ \\sum_{i=1}^n }\n",
    "\\newcommand{\\prodl}{ \\prod_{i=1}^n }\n",
    "\\newcommand{\\overunderset}[3]{\\overset{#1}{\\underset{#2}{#3}}}\n",
    "\\newcommand{\\asym}{\\overset{\\cdot}{\\sim}}\n",
    "\\newcommand{\\given}{\\bigg |}\n",
    "\\newcommand{\\M}{\\mathcal{M}}\n",
    "\\newcommand{\\Mult}{\\text{Mult}}\n",
    "$"
   ]
  },
  {
   "cell_type": "markdown",
   "metadata": {
    "collapsed": true
   },
   "source": [
    "# Multinomial Distribution\n",
    "\n",
    "- $m$ independent trials, $J \\ge 2$\n",
    "- $J$ possible outcomes with constant probability for each outcome across trials\n",
    "- happens to be a member of the **multivariate** EDF, so it is a multivariate GLM\n",
    "\n",
    "--- \n",
    "\n",
    "- $Y = (Y_1,...,Y_J)$, with $\\sum_{j=1}^J Y_j= m$\n",
    "- probabilites $\\pi=(\\pi_1,...,\\pi_J)$, where each $\\pi_j \\ge 0$ and sum to 1\n",
    "- $f(y|\\pi) = \\ds\\frac{m!}{\\prod_{j=1}^J y_j!} \\prod_{j=1}^J {\\pi_j}^{y_j}$"
   ]
  },
  {
   "cell_type": "markdown",
   "metadata": {},
   "source": [
    "## Properties\n",
    "- if $Y_1,...,Y_J \\sim \\Mult(m; \\pi_1,...,\\pi_J)$ then\n",
    "  1. collapsing: e.g. $(Y_1+Y_2, Y_3,...,Y_J)\\sim \\Mult(m; \\pi_1+\\pi_2,\\pi_3,...,\\pi_J)$\n",
    "  2. conditioning: e.e. $(Y_1,Y_2,Y_3) | (Y_4,...,Y_J)\\sim \\Mult\\p{m-\\sum_{l=4}^JY_l; ,\\frac{\\pi_1}{\\pi_1+\\pi_2+\\pi_3},\\frac{\\pi_2}{\\pi_1+\\pi_2+\\pi_3},\\frac{\\pi_3}{\\pi_1+\\pi_2+\\pi_3}}$\n",
    "  3. Marginalizing: e.g. $(Y_1,Y_2) \\sim \\Mult\\p{m; \\pi_1,\\pi_2,1-\\pi_1-\\pi_2}$\n",
    "  4. $Y_j\\sim Binom\\p{m; \\pi_j,1-\\pi_j}$\n",
    "\n",
    "## Connection to Poisson\n",
    "- if $Y_j \\ind Poisson(\\lambda_j)$\n",
    "  1. $(Y_1,...,y_J) \\given \\sum_{j=1}^J \\sim \\Mult\\p{\\sum_{j=1}^J Y_j; \\frac{\\lambda_1}{\\lambda}, ..., \\frac{\\lambda_J}{\\lambda}}$, where $\\lambda = \\sum_{j=1}^J y_j$\n",
    "\n"
   ]
  },
  {
   "cell_type": "markdown",
   "metadata": {},
   "source": [
    "## Contingency Tables\n",
    "Categorical Variables (represents the frequencies of all possible combos of discrete variables)\n",
    "\n",
    "| | X_1 | ... | X_J | \n",
    "|:---:|:---:|:---:|:---:|\n",
    "|Y_1 |-| |-| \n",
    "||-| $n_{ij}$ |-| \n",
    "\n",
    "|Y_I |-| - |-| \n",
    "\n",
    "$n_{ij}$ is the freq. for cell (i,j)\n",
    "\n",
    "- If there is a notion of response / covariate, then the log-linear models can be expressed as logistic GLMS"
   ]
  },
  {
   "cell_type": "markdown",
   "metadata": {},
   "source": [
    "Consider a 2x2 table. \n",
    "\n",
    "\n",
    "| n_11 | n_12|\n",
    "|:---:|:---:|\n",
    "| n_21 | n_22|\n",
    "\n",
    "total = $n$\n",
    "\n",
    "### 1. Poisson sampling (no restrictions on the $n_{ij})$\n",
    "- $n_{ij} \\ind Poisson(\\lambda_{ij})$, note that $n$ is also poisson\n",
    "\n",
    "### 2. Total $n$ is fixed\n",
    "- direct multinomial sampling \n",
    "- $(n_{11},n_{12},n_{21},n_{22}) \\given n \\sim \\Mult\\p{n; \\frac{\\lambda_{11}}{\\lambda},...,\\frac{\\lambda_{22}}{\\lambda}}$\n",
    "\n",
    "### 3. Row Totals are Fixed (implies the table total is fixed)\n",
    "| | Present | Absent|\n",
    "|:---:|:---:|:---:|\n",
    "|Present | n_11 | n_12|\n",
    "|Absent | n_21 | n_22|\n",
    "\n",
    "There is only one R.V. in each row, because the row total is fixed.\n",
    "So, \n",
    "- $n_{11}|n_{1\\bullet} \\sim Binorm\\p{n_{1\\bullet}, \\frac{\\pi_{11}}{\\pi_{11}+\\pi_{12}}}$\n",
    "- $n_{21}|n_{2\\bullet} \\sim Binorm\\p{n_{2\\bullet}, \\frac{\\pi_{21}}{\\pi_{21}+\\pi_{22}}}$\n",
    "\n",
    "### 4. Both column and row totals are fixed\n",
    "- not too common. Fisher's exact test (lady who can determine what was in her tea...)"
   ]
  },
  {
   "cell_type": "markdown",
   "metadata": {},
   "source": [
    "## Multinomial Response (Regression) models\n",
    "\n",
    "- $Y_i = (Y_{j1},...Y_{iJ}) \\given \\pi \\ind \\Mult(m_i; \\pi_{i1},...,\\pi_{iJ})$, where $m_i$ is fixed\n",
    "\n",
    "### Multivariate EDF\n",
    "- $f(y|\\theta,\\phi) = \\exp\\bc{\\frac{y'\\theta - b(\\theta)}{a(\\phi)} + c(y,\\phi)}$, where $y$ and $\\theta$ are $k$-vectors.\n",
    "- $\\E(y) = \\mu$\n",
    "- $\\phi >0 $\n",
    "- $g(\\mu) = X\\beta$, a vector of (possibly) link functions"
   ]
  },
  {
   "cell_type": "markdown",
   "metadata": {
    "collapsed": true
   },
   "source": [
    "# EDF form of Multinomial\n",
    "\n",
    "$$\n",
    "f(y|\\pi) = \\exp\\bc{y_1 \\log\\p{\\frac{\\pi_1}{\\pi_J}}+...+y_{J-1} \\log\\p{\\frac{\\pi_{J-1}}{\\pi_J}} + \\log(1-\\pi_1-...-\\pi_{J-1}) - \\log\\p{\\prod_{j=1}^Jy_j!} + \\log(m!)}\n",
    "$$\n",
    "\n",
    "$$\\theta_j = \\log\\p{\\frac{\\pi_j}{\\pi_J}} = \\log\\p{\\frac{\\pi_j}{1-\\sum_{l=1}^{J-1}\\pi_l}}$$"
   ]
  },
  {
   "cell_type": "markdown",
   "metadata": {},
   "source": [
    "# nomial Categorical Responses\n",
    "## Baseline-category logits\n",
    "- select a category as reference / baseline (choice is arbitrary, say the last one)\n",
    "- $\\mathcal{L}_j = \\log\\p{\\frac{\\pi_j}{\\pi_J}} = \\alpha_j+x_i'\\beta_j$\n",
    "    - for $j=1,...,J-1$\n",
    "    - if $J=2$, we get logistic regression\n",
    "- wlog, one covariate, (2(J-1) parameters)\n",
    "- $\\log\\p{\\frac{\\pi_l}{\\pi_k}} = \\log\\p{\\frac{\\pi_l}{\\pi_J}} - \\log\\p{\\frac{\\pi_k}{\\pi_J}} = (\\alpha_l-\\alpha_k)+(\\beta_l-\\beta_k)x$\n",
    "    - p.274 Aquesti (2002)\n",
    "- with J=3, and one covariate, $\\pi_3 = \\p{1 + \\sum_{l=1}^3 \\exp(\\alpha_l + \\beta_lx)}^{-1}$, and $\\frac{\\pi_j}{\\pi_3} =\\exp(\\alpha_j+\\beta_jx)$\n",
    "\n",
    "$\\mathcal{L} \\propto \\ds\\prodl \n",
    "\\p{\\frac{\\exp(\\alpha_1+\\beta_1x_i)}{1+\\sum_{l=1}^2\\exp(\\alpha_l+\\beta_lx_i)}}^{y_{i1}}\n",
    "\\p{\\frac{\\exp(\\alpha_2+\\beta_2x_i)}{1+\\sum_{l=1}^2\\exp(\\alpha_l+\\beta_lx_i)}}^{y_{i2}}\n",
    "\\p{\\frac{1}{1+\\sum_{l=1}^2\\exp(\\alpha_l+\\beta_lx_i)}}^{y_{i3}}$"
   ]
  },
  {
   "cell_type": "markdown",
   "metadata": {},
   "source": [
    "# Multinomial logit models (discrete choice models) (McFadden 1974, conditional logit)\n",
    "models for settings where covariates change with response covariates\n",
    "- choice of brand of car\n",
    "  - car price\n",
    "  - family income\n",
    "- choice of transportation\n",
    "  - cost\n",
    "  - transit time\n",
    "- characteristics of the choice\n",
    "- characteristics of the chooser\n",
    "\n",
    "***\n",
    "\n",
    "- assume only \"characteristics of the choices\", subjects $i=1,...,n$. possible choices $C_i$\n",
    "- $X_{ij} = (x_{ij1},...,x_{ijp})^T$: covariate values for subject $i$ and response choice $j$.\n",
    "- $\\beta$ is a $p\\times1$ vector of regression coefficients\n",
    "- possibility that subject $i$ makes choice $j$: \n",
    "  $$\n",
    "  \\pi_j(x_{ij}) = \\frac{\\exp(x_{ij}'\\beta)}{\\sum_{h\\in C_i}\\exp(x_{ih}'\\beta)}\n",
    "  $$\n",
    "  where $\\sum_{h\\in C_i} \\pi_j = 1$\n",
    "\n",
    "*** \n",
    "### Pair of choices\n",
    "\n",
    "$$\n",
    "\\log\\p{\\frac{\\pi_l(x_{ij})}{\\pi_k(x_{ij})}} = (x_{il}-x_{ik})'\\beta \n",
    "$$\n",
    "\n",
    "***\n",
    "\n",
    "$$\n",
    "\\begin{split}\n",
    "\\delta_{jt} = 1, \\text{ if } t = j, \\text{0 o.w.} \\\\\n",
    "z_{ij} = (\\delta_{j1},...,\\delta_{jJ},\\delta_{j1}x_i,...,\\delta_{jJ}x_i) \\\\\n",
    "\\pi_j(x_i) = \\frac{\\exp(x_{ij}'\\beta)}{1+\\sum_{l=1}^{J-1}\\exp(x_{il}'\\beta)}\n",
    "\\end{split}\n",
    "$$"
   ]
  },
  {
   "cell_type": "code",
   "execution_count": null,
   "metadata": {
    "collapsed": true
   },
   "outputs": [],
   "source": []
  }
 ],
 "metadata": {
  "kernelspec": {
   "display_name": "Julia 0.5.0",
   "language": "julia",
   "name": "julia-0.5"
  },
  "language_info": {
   "file_extension": ".jl",
   "mimetype": "application/julia",
   "name": "julia",
   "version": "0.5.0"
  }
 },
 "nbformat": 4,
 "nbformat_minor": 0
}
