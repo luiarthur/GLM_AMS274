{
 "cells": [
  {
   "cell_type": "markdown",
   "metadata": {
    "slideshow": {
     "slide_type": "-"
    }
   },
   "source": [
    "# Generalized Linear Models (GLM) -- First Lecture\n",
    "\n",
    "Hi Arthur! Take great notes!\n",
    "\n",
    "Here is a link to a [placeholder lecture slide](../slides/placeholder.pdf)\n",
    "\n",
    "Here is some latex:\n",
    "\n",
    "$\\alpha + \\beta = 1$\n",
    "\n",
    "$$\n",
    "\\begin{bmatrix}\n",
    "1 & 2 & 3 \\\\\n",
    "4 & 5 & 6 \\\\\n",
    "\\end{bmatrix}\n",
    "$$"
   ]
  },
  {
   "cell_type": "markdown",
   "metadata": {
    "slideshow": {
     "slide_type": "-"
    }
   },
   "source": [
    "# Generalized Linear Models (GLM) -- First Lecture\n",
    "\n",
    "Hi Arthur! Take great notes!\n",
    "\n",
    "Here is a link to a [placeholder lecture slide](../slides/placeholder.pdf)\n",
    "\n",
    "Here is some latex:\n",
    "\n",
    "$\\alpha + \\beta = 1$\n",
    "\n",
    "$$\n",
    "\\begin{bmatrix}\n",
    "1 & 2 & 3 \\\\\n",
    "4 & 5 & 6 \\\\\n",
    "\\end{bmatrix}\n",
    "$$"
   ]
  }
 ],
 "metadata": {
  "kernelspec": {
   "display_name": "Julia 0.4.5",
   "language": "julia",
   "name": "julia-0.4"
  },
  "language_info": {
   "file_extension": ".jl",
   "mimetype": "application/julia",
   "name": "julia",
   "version": "0.4.5"
  }
 },
 "nbformat": 4,
 "nbformat_minor": 0
}
