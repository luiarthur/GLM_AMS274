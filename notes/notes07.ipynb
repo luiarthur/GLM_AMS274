{
 "cells": [
  {
   "cell_type": "markdown",
   "metadata": {},
   "source": [
    "Open in [nbviewer](http://nbviewer.jupyter.org/github/luiarthur/GLM_AMS274/blob/master/notes/notes07.ipynb)\n",
    "$\n",
    "% Latex definitions\n",
    "% note: Ctrl-shfit-p for shortcuts menu\n",
    "\\newcommand{\\iid}{\\overset{iid}{\\sim}}\n",
    "\\newcommand{\\ind}{\\overset{ind}{\\sim}}\n",
    "\\newcommand{\\p}[1]{\\left(#1\\right)}\n",
    "\\newcommand{\\bk}[1]{\\left[#1\\right]}\n",
    "\\newcommand{\\bc}[1]{ \\left\\{#1\\right\\} }\n",
    "\\newcommand{\\abs}[1]{ \\left|#1\\right| }\n",
    "\\newcommand{\\norm}[1]{ \\left|\\left|#1\\right|\\right| }\n",
    "\\newcommand{\\E}{ \\text{E} }\n",
    "\\newcommand{\\N}{ \\mathcal N }\n",
    "\\newcommand{\\ds}{ \\displaystyle }\n",
    "\\newcommand{\\R}{ \\mathbb{R} }\n",
    "\\newcommand{\\suml}{ \\sum_{i=1}^n }\n",
    "\\newcommand{\\overunderset}[3]{\\overset{#1}{\\underset{#2}{#3}}}\n",
    "\\newcommand{\\asym}{\\overset{\\cdot}{\\sim}}\n",
    "$"
   ]
  },
  {
   "cell_type": "markdown",
   "metadata": {
    "collapsed": true
   },
   "source": [
    "$$\n",
    "\\begin{split}\n",
    "y_i  &\\ind \\exp\\p{\\frac{y_i\\theta_i - b(\\theta_i)}{a_i(\\phi)}+c(y_i,\\phi)} \\\\\n",
    "E(Y_i) &= b'(\\theta_i) = \\mu_i = g^{-1}(x_i^T\\beta) \\\\\n",
    "Var(Y_i) &= \\frac{\\phi}{w_i}b''(\\theta_i) = \\frac{\\phi}{w_i}V(\\mu_i) \\\\\n",
    "\\end{split}\n",
    "$$\n",
    "\n",
    "wlog, $a_i(\\phi) = \\phi/w_i$, ($w_i$ known)"
   ]
  },
  {
   "cell_type": "markdown",
   "metadata": {
    "collapsed": true
   },
   "source": [
    "# Generalized Pearon $\\chi^2$ Statistic\n",
    "\n",
    "$$\n",
    "\\begin{split}\n",
    "\\chi^2 &\\suml\\frac{(y_i-\\hat{\\mu_i})^2}{V(\\hat{\\mu_i})}\n",
    "\\end{split}\n",
    "$$\n",
    "\n",
    "- not additive\n",
    "- $\\frac{\\chi^2}{\\phi} \\asym \\chi^2_{n-p}$"
   ]
  },
  {
   "cell_type": "markdown",
   "metadata": {
    "collapsed": true
   },
   "source": [
    "## Examples\n",
    "\n",
    "1. Normal\n",
    "   $$\n",
    "   \\chi^2 = \\suml(y_i-x_i^T\\beta)^2 = D(\\hat\\mu,y)\n",
    "   $$\n",
    "2. Poisson\n",
    "   $$\n",
    "   \\chi^2 = \\suml\\frac{(y_i-\\hat{\\mu_i})^2}{\\hat{\\mu_i}}\n",
    "   $$"
   ]
  },
  {
   "cell_type": "markdown",
   "metadata": {},
   "source": [
    "# Estimation for $\\phi$\n",
    "\n",
    "- MLE of $\\phi$ -> profile likelihood \n",
    "- MOM estimates\n",
    "  - $\\tilde{\\phi_D} = \\frac{1}{n-p} D$ \n",
    "  - $\\tilde{\\phi_P} = \\frac{1}{n-p} \\chi^2$ "
   ]
  },
  {
   "cell_type": "markdown",
   "metadata": {},
   "source": [
    "# Residuals for GLMs\n",
    "\n",
    "- Raw residuals: $ y_i - \\hat{\\mu_i} $\n",
    "- Pearson residuals: $ \\ds{r_i^p = \\frac{y_i-\\hat\\mu_i}{\\sqrt{V(\\hat{\\mu_i})}}}$\n",
    "- Anscombe residuals: \n",
    "    - apply a transformation $A(y)$ to numerator and denominator of pearson residuals\n",
    "    - For EDF: $A(\\cdot) = \\int V^{-1/3}(\\mu) d\\mu$\n",
    "    $$\n",
    "    \\begin{split}\n",
    "    y_i &\\rightarrow A(y_i) \\\\\n",
    "    Var(y_i) &\\rightarrow Var(A(y_i)) \\\\\n",
    "    \\end{split}\n",
    "    $$\n",
    "- Deviance residuals: $r_i^D = sign(y_i-\\hat{\\mu_i})\\sqrt{d_i}$, where $D = \\suml d_i$.\n",
    "\n",
    "## Example (Poisson)\n",
    "$$\n",
    "\\begin{split}\n",
    "r_i^P &= \\frac{y_i-\\hat{\\mu_i}}{\\sqrt{\\hat{\\mu_i}}} \\\\\n",
    "r_i^A &= \\frac{\\frac{3}{2} (y^{2/3}-\\hat{\\mu_i}^{2/3})}{\\hat{\\mu_i}^{1/6}} \\\\\n",
    "r_i^D &= sign(y_i-\\hat{\\mu_i})\\bc{2\\bk{y_i\\log\\frac{y_i}{\\hat{\\mu_i}}-(y_i-\\hat{\\mu_i})}}^{1/2}\n",
    "\\end{split}\n",
    "$$\n",
    "\n",
    "## Example (Normal)\n",
    "- pearson and deviance resids are the same = $ y - X\\beta \\sim \\N_n(0,\\sigma^2(I_n-H))$, where $H$ is the hat matrix.\n",
    "\n"
   ]
  },
  {
   "cell_type": "markdown",
   "metadata": {},
   "source": [
    "## Papers\n",
    "- Pierce & Schafer (1996) JASA pp. 977-986\n",
    "- Ben & Yohai (2004) JCGS, vol 13, pp. 36-47\n"
   ]
  },
  {
   "cell_type": "markdown",
   "metadata": {},
   "source": [
    "# AIC and BIC for Model Comparison\n",
    "\n",
    "- parameter: $\\theta$\n",
    "- data: $y = (y_1,...,y_n)$\n",
    "\n",
    "$$\n",
    "\\begin{split}\n",
    "AIC &= -2 l(\\hat\\theta;y) + 2K \\\\\n",
    "BIC &= -2 l(\\hat\\theta;y) + K\\log(n) \\\\\n",
    "\\end{split}\n",
    "$$\n",
    "\n",
    "where $K$ is the number of parameters in the model.\n",
    "\n"
   ]
  },
  {
   "cell_type": "markdown",
   "metadata": {},
   "source": []
  }
 ],
 "metadata": {
  "kernelspec": {
   "display_name": "Julia 0.4.5",
   "language": "julia",
   "name": "julia-0.4"
  },
  "language_info": {
   "file_extension": ".jl",
   "mimetype": "application/julia",
   "name": "julia",
   "version": "0.4.5"
  }
 },
 "nbformat": 4,
 "nbformat_minor": 0
}
