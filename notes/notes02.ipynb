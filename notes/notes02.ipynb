{
 "cells": [
  {
   "cell_type": "markdown",
   "metadata": {},
   "source": [
    "$\n",
    "% note: Ctrl-shfit-p for shortcuts menu\n",
    "\\newcommand{\\iid}{\\overset{iid}{\\sim}}\n",
    "\\newcommand{\\ind}{\\overset{ind}{\\sim}}\n",
    "\\newcommand{\\p}[1]{\\left(#1\\right)}\n",
    "\\newcommand{\\bk}[1]{\\left[#1\\right]}\n",
    "\\newcommand{\\bc}[1]{ \\left\\{#1\\right\\} }\n",
    "\\newcommand{\\abs}[1]{ \\left|#1\\right| }\n",
    "\\newcommand{\\norm}[1]{ \\left|\\left|#1\\right|\\right| }\n",
    "\\newcommand{\\E}{ \\text{E} }\n",
    "\\newcommand{\\N}{ \\mathcal N }\n",
    "\\newcommand{\\ds}{ \\displaystyle }\n",
    "$\n",
    "# GLM Definition\n",
    "\n",
    "1. Random Component\n",
    "    The response are independently distributed Exponential Dispersion Family (EDF)\n",
    "    $$\n",
    "    y_i \\ind ED(\\theta,\\phi)\n",
    "    $$\n",
    "    with pdf / pmf \n",
    "    $$\n",
    "    f(y_i|\\theta,\\phi) = \\exp\\bc{\\frac{y_i\\theta_i-b(\\theta_i)}{a(\\phi)}+c(y_i,\\phi)}\n",
    "    $$\n",
    "    with $\\theta_i\\in\\Theta, ~ \\phi > 0$\n",
    "    \n",
    "    Note that the 1,2-parameter exponential family is a special case of the EDF.\n",
    "    \n",
    "2. Systematic Component\n",
    "    $$\\eta_i = x_i^T\\beta $$\n",
    "    \n",
    "3. Link Function\n",
    "    $$ g(\\mu_i) = \\eta_i, \\quad \\text{where } \\mu_i = \\E\\bk{y_i} $$\n",
    "4. hi"
   ]
  },
  {
   "cell_type": "markdown",
   "metadata": {},
   "source": []
  }
 ],
 "metadata": {
  "kernelspec": {
   "display_name": "Julia 0.4.0",
   "language": "julia",
   "name": "julia-0.4"
  },
  "language_info": {
   "file_extension": ".jl",
   "mimetype": "application/julia",
   "name": "julia",
   "version": "0.4.0"
  }
 },
 "nbformat": 4,
 "nbformat_minor": 0
}
