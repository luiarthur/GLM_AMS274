{
 "cells": [
  {
   "cell_type": "markdown",
   "metadata": {},
   "source": [
    "Open in [nbviewer](http://nbviewer.jupyter.org/github/luiarthur/GLM_AMS274/blob/master/notes/notes04.ipynb)\n",
    "$\n",
    "% Latex definitions\n",
    "% note: Ctrl-shfit-p for shortcuts menu\n",
    "\\newcommand{\\iid}{\\overset{iid}{\\sim}}\n",
    "\\newcommand{\\ind}{\\overset{ind}{\\sim}}\n",
    "\\newcommand{\\p}[1]{\\left(#1\\right)}\n",
    "\\newcommand{\\bk}[1]{\\left[#1\\right]}\n",
    "\\newcommand{\\bc}[1]{ \\left\\{#1\\right\\} }\n",
    "\\newcommand{\\abs}[1]{ \\left|#1\\right| }\n",
    "\\newcommand{\\norm}[1]{ \\left|\\left|#1\\right|\\right| }\n",
    "\\newcommand{\\E}{ \\text{E} }\n",
    "\\newcommand{\\N}{ \\mathcal N }\n",
    "\\newcommand{\\ds}{ \\displaystyle }\n",
    "\\newcommand{\\R}{ \\mathbb{R} }\n",
    "\\newcommand{\\suml}{ \\sum_{i=1}^n }\n",
    "\\newcommand{\\overunderset}[3]{\\overset{#1}{\\underset{#2}{#3}}}\n",
    "\\newcommand{\\asym}{\\overset{\\cdot}{\\sim}}\n",
    "$"
   ]
  },
  {
   "cell_type": "markdown",
   "metadata": {},
   "source": [
    "# Notes 4\n",
    "\n",
    "## Result\n",
    "For GLM's, we have the following result for the MLE's of the parameters $\\beta$.\n",
    "$$\n",
    "  \\hat{\\beta} \\overset{\\cdot}{\\sim} \\N_p \\p{\\beta,J^{-1}(\\hat\\beta)}\n",
    "$$\n",
    "if $\\phi$ is present, the variance is $J^{-1}(\\hat\\beta,\\tilde\\phi)$  where $\\tilde\\phi$ is consistent for $\\phi$.\n",
    "\n",
    "(Note that $\\overset{\\cdot}{\\sim}$ is shorthand for asymptotically distributed as)"
   ]
  },
  {
   "cell_type": "markdown",
   "metadata": {},
   "source": [
    "Recall that  for the EDF (and possibly a more general family of distributions)\n",
    "\n",
    "$E(U_j) = 0$  for $j=1,...,p$\n",
    "\n",
    "and\n",
    "\n",
    "$Cov(U) = J(B)$\n",
    "\n",
    "$$ U \\asym \\N_p(0,J(\\beta)) $$\n",
    "\n",
    "$$ U^T J^{-1}(\\beta) U \\asym \\chi^2_p$$"
   ]
  },
  {
   "cell_type": "markdown",
   "metadata": {},
   "source": [
    "# Inference for $\\beta$ through $\\hat\\beta$\n",
    "\n",
    "First-order Taylor series expansion\n",
    "\n",
    "$$ U(\\beta) \\approx U(\\hat\\beta) - I(\\beta,y)(\\beta-\\hat\\beta)$$\n",
    "\n",
    "which is approximated by\n",
    "\n",
    "$$ U(\\beta) \\approx U(\\hat\\beta) - J(\\beta)(\\beta-\\hat\\beta)$$\n",
    "\n",
    "where $I$ is the observed information matrix.\n",
    "\n",
    "Note that $U(\\hat\\beta)=0$ so \n",
    "\n",
    "$$ U(\\beta) \\approx - J(\\beta)(\\beta-\\hat\\beta)$$\n",
    "\n",
    "$$ \\hat\\beta-\\beta \\approx J^{-1}(\\beta) U(\\beta)$$\n",
    "\n",
    "$$\\therefore ~~~~ E(\\hat\\beta-beta) \\approx 0$$\n",
    "\n",
    "For the covariance,\n",
    "\n",
    "$$ \n",
    "\\begin{array}{rcl}\n",
    "Cov(\\hat\\beta) &\\approx& E\\bk{(\\hat\\beta-\\beta)(\\hat\\beta-\\beta)^T} \\\\\n",
    "               &\\approx& E\\bk{J^{-1}(\\beta)U(\\beta)U^T(\\beta)J^{-1}(\\beta)} \\\\\n",
    "               &\\approx& J^{-1}(\\beta)E\\bk{U(\\beta)U^T(\\beta)}J^{-1}(\\beta) \\\\\n",
    "               &\\approx& J^{-1}(\\beta)J(\\beta)J^{-1}(\\beta) \\\\\n",
    "               &\\approx& J^{-1}(\\beta) \\\\\n",
    "\\end{array}\n",
    "$$\n"
   ]
  },
  {
   "cell_type": "markdown",
   "metadata": {},
   "source": [
    "# Normal Linear Model (identity link)\n",
    "\n",
    "$\\theta = \\mu$, $b(\\theta) = \\theta^2/2 $, $\\phi = \\sigma^2$\n",
    "\n",
    "$g(\\mu_i) = mu_i = \\eta_i = x_i^T\\beta$\n",
    "\n",
    "$$\n",
    "\\begin{array}{rcl}\n",
    "U_j &=& \\frac{1}{\\sigma^2} \\suml x_{ij} (y_i - x_i^T\\beta) \\\\\n",
    "J_{kj} &=& \\frac{1}{\\sigma^2} \\suml x_{ij} x_{ik}\n",
    "\\end{array}\n",
    "$$\n",
    "\n",
    "$ y = X\\beta + \\epsilon$, where $\\epsilon \\sim \\N_n(0,\\sigma^2I_n)$\n",
    "\n",
    "then\n",
    "$$ \\hat\\beta = (X'X)^{-1}X'y$$\n",
    "$$ \\E\\bk{\\hat\\beta} = \\beta $$\n",
    "$$ Cov\\bk{\\hat\\beta} = \\sigma^2(X'X)^{-1} = J^{-1}$$"
   ]
  },
  {
   "cell_type": "markdown",
   "metadata": {},
   "source": [
    "# Classical Semiparametric Estimation\n",
    "$$ y_i, \\text{ and } x_i = (x_{i1},...,x_{ip})^T $$\n",
    "\n",
    "$\\E\\bk{y_i} = \\mu_i = \\mu_i(\\beta)$ (regression function)\n",
    "\n",
    "$Var(y_i) = \\phi V_i(\\mu_i)$, $\\phi>0$, $V_i(\\cdot)$ is a variance function. (typically, $V_i(\\cdot)=V(\\cdot)$).\n",
    "\n",
    "## Quasi-likelihood estimation\n",
    "\n",
    "$$\n",
    "U(\\mu,\\phi;y) = \\frac{y-\\mu}{\\phi V(\\mu)} = \\frac{y-\\E(y)}{Var(y)}\n",
    "$$\n",
    "\n",
    "$E(U) = 0$, $Var(U) = \\frac{1}{\\phi V(\\mu)}$\n",
    "\n",
    "$E(-U_\\mu) = \\frac{1}{\\phi V(\\mu)} = Var(U)$\n",
    "\n",
    "$U$ behaves like $\\frac{\\partial l(\\mu,\\phi;y)}{\\partial \\mu}$"
   ]
  },
  {
   "cell_type": "markdown",
   "metadata": {},
   "source": []
  }
 ],
 "metadata": {
  "kernelspec": {
   "display_name": "Julia 0.4.5",
   "language": "julia",
   "name": "julia-0.4"
  },
  "language_info": {
   "file_extension": ".jl",
   "mimetype": "application/julia",
   "name": "julia",
   "version": "0.4.5"
  }
 },
 "nbformat": 4,
 "nbformat_minor": 0
}
