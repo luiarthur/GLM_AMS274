{
 "cells": [
  {
   "cell_type": "markdown",
   "metadata": {},
   "source": [
    "Open in [nbviewer](http://nbviewer.jupyter.org/github/luiarthur/GLM_AMS274/blob/master/notes/notes06.ipynb)\n",
    "$\n",
    "% Latex definitions\n",
    "% note: Ctrl-shfit-p for shortcuts menu\n",
    "\\newcommand{\\iid}{\\overset{iid}{\\sim}}\n",
    "\\newcommand{\\ind}{\\overset{ind}{\\sim}}\n",
    "\\newcommand{\\p}[1]{\\left(#1\\right)}\n",
    "\\newcommand{\\bk}[1]{\\left[#1\\right]}\n",
    "\\newcommand{\\bc}[1]{ \\left\\{#1\\right\\} }\n",
    "\\newcommand{\\abs}[1]{ \\left|#1\\right| }\n",
    "\\newcommand{\\norm}[1]{ \\left|\\left|#1\\right|\\right| }\n",
    "\\newcommand{\\E}{ \\text{E} }\n",
    "\\newcommand{\\N}{ \\mathcal N }\n",
    "\\newcommand{\\ds}{ \\displaystyle }\n",
    "\\newcommand{\\R}{ \\mathbb{R} }\n",
    "\\newcommand{\\suml}{ \\sum_{i=1}^n }\n",
    "\\newcommand{\\overunderset}[3]{\\overset{#1}{\\underset{#2}{#3}}}\n",
    "\\newcommand{\\asym}{\\overset{\\cdot}{\\sim}}\n",
    "$"
   ]
  },
  {
   "cell_type": "markdown",
   "metadata": {
    "collapsed": true
   },
   "source": [
    "$$\n",
    "\\begin{split}\n",
    "y_i  &\\ind \\exp\\p{\\frac{y_i\\theta_i - b(\\theta_i)}{a_i(\\phi)}+c(y_i,\\phi)} \\\\\n",
    "E(Y_i) &= b'(\\theta_i) = \\mu_i = g^{-1}(x_i^T\\beta) \\\\\n",
    "Var(Y_i) &= \\frac{\\phi}{w_i}b''(\\theta_i) = \\frac{\\phi}{w_i}V(\\mu_i) \\\\\n",
    "\\end{split}\n",
    "$$\n",
    "\n",
    "wlog, $a_i(\\phi) = \\phi/w_i$, ($w_i$ known)"
   ]
  },
  {
   "cell_type": "markdown",
   "metadata": {},
   "source": [
    "# Full Model ($\\phi$ fixed)\n",
    "\n",
    "$$\n",
    "\\begin{split}\n",
    "\\hat\\beta &\\rightarrow \\hat{\\mu_i} = g^{-1}(x_i^T\\beta) (\\text{  also, } \\hat{\\theta_i} = b'^{-1}(\\theta)(\\hat{\\mu_i}))\\\\\n",
    "\\end{split}\n",
    "$$\n",
    "\n",
    "$$\n",
    "LRT = \\lambda = \\frac{L(\\hat\\theta;y)}{L(\\tilde\\theta;y)}\n",
    "$$\n",
    "\n",
    "## Scaled Deviance\n",
    "\n",
    "$$\n",
    "\\begin{split}\n",
    "D^*  &= -2\\log(\\lambda)  \\\\\n",
    "&= \\frac{2}{\\phi} \\suml w_i \\bc{y_i\\p{\\tilde{\\theta_i}-\\hat{\\theta_i}} - b(\\tilde{\\theta_i}) + b(\\hat{\\theta_i})}\\\\\n",
    "&= \\frac{1}{\\phi} D \\\\\n",
    "\\\\\n",
    "D^* &\\asym \\chi^2_{n-p}\n",
    "\\end{split}\n",
    "$$\n",
    "\n",
    "Note that $D$ is the Deviance.\n",
    "This assymptotic result should be relies heavily on certain assumptions.\n"
   ]
  },
  {
   "cell_type": "markdown",
   "metadata": {},
   "source": [
    "# Example: Normal Linear Model (identity link function)\n",
    "\n",
    "$$\n",
    "\\begin{split}\n",
    "y_i &\\ind \\N(\\mu_i,\\sigma^2),~~~ i = 1,...,n ~~~ (\\sigma^2 \\text{known}) \\\\\n",
    "\\end{split}\n",
    "$$\n",
    "EDF:  $\\theta_i=\\mu_i, b(\\theta_i) = \\theta_i^2/2, \\phi = \\sigma^2$\n",
    "\n",
    "## Full Model\n",
    "$$\n",
    "\\begin{split}\n",
    "\\beta &= (\\mu_1,...,\\mu_n) \\\\\n",
    "MLE: \\tilde{\\mu_i} &= y_i ~~~ (\\tilde{\\theta_i}=y_i) \\\\\n",
    "\\end{split}\n",
    "$$\n",
    "\n",
    "### GLM\n",
    "\n",
    "$$ \\hat{\\mu_i} = x_i^T\\hat\\beta  = \\hat{\\theta_i} $$\n",
    "\n",
    "$$ D^* = \\frac{1}{\\sigma^2} \\suml\\p{ y_i - \\hat{\\mu_i} }^2  = \\frac{1}{\\sigma^2} \\suml\\p{ y_i - \\hat{x_i^T\\beta} }^2= \\frac{D}{\\sigma^2}$$\n",
    "\n",
    "---\n",
    "\n",
    "$$\n",
    "\\begin{split}\n",
    "D^* &= \\frac{1}{\\sigma^2}(y-X\\hat\\beta)^T(y-X\\hat\\beta), ~~~ (\\hat\\beta = \\text{MLE}) \\\\\n",
    "    &= \\frac{1}{\\sigma^2}y^T (I-P) y \\\\\n",
    "\\end{split}\n",
    "$$\n",
    "\n",
    "$D^* \\sim \\chi^2_{n-p}$ is a result from linear models."
   ]
  },
  {
   "cell_type": "markdown",
   "metadata": {},
   "source": [
    "# Example: Binomial GLM\n",
    "\n",
    "$$ y_i \\ind Bin(m_i,\\pi_i), ~~~ i=1,...,n $$ $m_i$ known\n",
    "\n",
    "$$\n",
    "\\begin{split}\n",
    "f(y_i|\\pi_i) &= \\exp\\p{y_i\\log\\frac{\\pi_i}{1-\\pi_i} + m_i\\log(1-\\pi_i) + \\log\\bc{{m_i\\choose y_i}}} \\\\\n",
    "\\phi &= 1 \\\\\n",
    "\\theta_i &= \\log\\frac{\\pi_i}{1-\\pi_i} \\\\\n",
    "b(\\theta_i) &= m_i\\log(1+e^{\\theta_i}) \\\\\n",
    "b'(\\theta_i) &= m_i\\frac{e^{\\theta_i}}{1+e^{\\theta_i}} = m_i\\pi_i \\\\\n",
    "b''(\\theta_i) &= ... = m_i\\pi_i(1-\\pi_i) \\\\\n",
    "V(\\mu_i) &= \\mu_i(1-\\frac{\\mu_i}{m_i}) \\\\\n",
    "\\end{split}\n",
    "$$\n",
    "\n",
    "## Full Model\n",
    "\n",
    "Distinct $\\pi_i$ for each $y_i$.\n",
    "\n",
    "$$\\tilde{\\pi_i} = \\frac{y_i}{m_i}$$\n",
    "$$\\tilde{\\theta_i} = \\log\\frac{\\tilde{\\pi_i}}{1-\\tilde{\\pi_i}} = \\log\\frac{y_i}{m_i-y_i} $$\n",
    "\n",
    "## GLM \n",
    "$$ \\hat\\beta \\rightarrow \\hat{\\mu_i}= g^{-1}(x_i^T\\beta)$$\n",
    "$$\\hat{\\theta_i} = \\log\\frac{\\hat{\\mu_i}}{m_i -\\hat{\\mu_i}}$$\n",
    "$$ D^* = D = 2\\suml\\bc{y_i\\log\\frac{y_i}{\\hat{\\mu_i}} + (m_i-y_i)\\log\\frac{m_i-y_i}{m_i-\\hat{\\mu_i}}}$$"
   ]
  },
  {
   "cell_type": "markdown",
   "metadata": {},
   "source": [
    "# Difference of scaled deviances for nested models ($M_1,M_0$)\n",
    "\n",
    "- same response distribution\n",
    "- same link function\n",
    "- variable selection\n",
    "\n",
    "$M_0$ GLM with $q$ covariates\n",
    "$M_1$ GLM (same EDF and link as $M_0$) with $q < p < n$ covariates\n",
    "\n",
    "## Nested setting\n",
    "\n",
    "$$ M_0 \\subset M1 $$\n",
    "\n",
    "$$\n",
    "\\begin{split}\n",
    "l(\\hat\\beta_{M_0},\\phi;y) &\\le l(\\hat\\beta_{M_1},\\phi;y)  \\\\\n",
    "\\\\\n",
    "D_0^* - D_1^* &= -2l(\\hat\\beta_{M_0},\\phi;y) +2l(\\hat\\beta_{M_1},\\phi;y) \\ge 0 \\\\\n",
    "\\\\\n",
    "D_0^* - D_1^* &= \\frac{D(M_0)-D(M_1)}{\\phi} \\asym \\chi^2_{p-q} ~~~ (\\text{ under } H_0: M_0) \\\\\n",
    "\\end{split}\n",
    "$$\n",
    "\n"
   ]
  },
  {
   "cell_type": "markdown",
   "metadata": {},
   "source": [
    "# Binomial GLMs $(D^*=D$)\n",
    "\n",
    "$$D^* \\asym \\chi^2_{n-p}$$\n",
    "\n",
    "- McCullagh & Nelder, (p.118)\n",
    "- Pierce & Schafer, 1986, JASA pp. 977-986\n",
    "\n",
    "- n-asymptotics -> sample size (# of responses) $n$ is large\n",
    "- m-asymptotics -> $m_i$ specific to $y_i$ or common to all responses\n",
    "    - Binomial: $m_i$ is number of trials\n",
    "    - Poisson: common factor for all the means ($\\E(Y_i) = m\\mu_i^*$)\n",
    "- asymptotic result for $\\hat\\beta$ valid under both types of asymptotics\n",
    "- result for $D^*$ requires m-asymptotics\n"
   ]
  },
  {
   "cell_type": "markdown",
   "metadata": {},
   "source": [
    "## Assumptions\n",
    "\n",
    "- $y_i \\ind Bin(m_i,\\pi_i)$\n",
    "- fixed $n$, but $m_i \\rightarrow\\infty, \\forall i$ and $m_i(\\pi_i)(1-\\pi_i) \\rightarrow\\infty, \\forall i$"
   ]
  },
  {
   "cell_type": "code",
   "execution_count": null,
   "metadata": {
    "collapsed": true
   },
   "outputs": [],
   "source": []
  }
 ],
 "metadata": {
  "kernelspec": {
   "display_name": "Julia 0.4.5",
   "language": "julia",
   "name": "julia-0.4"
  },
  "language_info": {
   "file_extension": ".jl",
   "mimetype": "application/julia",
   "name": "julia",
   "version": "0.4.5"
  }
 },
 "nbformat": 4,
 "nbformat_minor": 0
}
